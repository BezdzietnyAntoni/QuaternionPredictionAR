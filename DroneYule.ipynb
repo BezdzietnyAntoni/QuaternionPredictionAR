{
 "cells": [
  {
   "cell_type": "code",
   "execution_count": 12,
   "metadata": {},
   "outputs": [],
   "source": [
    "import numpy as np\n",
    "import quaternion as qt\n",
    "import library.ulogReader as ur\n",
    "import library.quaternionUtils as qu\n",
    "import library.choleskyDecomposition as cd\n",
    "import library.quaternionVisualisation as qv\n",
    "\n",
    "from pyulog import ULog"
   ]
  },
  {
   "attachments": {},
   "cell_type": "markdown",
   "metadata": {},
   "source": [
    "## Wczytanie danych lotu drona"
   ]
  },
  {
   "cell_type": "code",
   "execution_count": 7,
   "metadata": {},
   "outputs": [
    {
     "name": "stdout",
     "output_type": "stream",
     "text": [
      "Warning: unknown file version. Will attempt to read it anyway\n"
     ]
    }
   ],
   "source": [
    "ulog_path = './ulogs/639_bs10_out_alt.ulg'\n",
    "ulog = ULog(ulog_path)\n",
    "\n",
    "attitude, attitude_time  = ur.readAttitude(ulog)\n",
    "attitude_time = (attitude_time - attitude_time[0]) / 1e3\n",
    "\n"
   ]
  }
 ],
 "metadata": {
  "kernelspec": {
   "display_name": "venv",
   "language": "python",
   "name": "python3"
  },
  "language_info": {
   "codemirror_mode": {
    "name": "ipython",
    "version": 3
   },
   "file_extension": ".py",
   "mimetype": "text/x-python",
   "name": "python",
   "nbconvert_exporter": "python",
   "pygments_lexer": "ipython3",
   "version": "3.10.6"
  },
  "orig_nbformat": 4
 },
 "nbformat": 4,
 "nbformat_minor": 2
}
